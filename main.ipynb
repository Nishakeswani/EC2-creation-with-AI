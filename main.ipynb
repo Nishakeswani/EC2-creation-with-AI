{
 "cells": [
  {
   "cell_type": "code",
   "execution_count": 1,
   "id": "d26426bf",
   "metadata": {},
   "outputs": [
    {
     "ename": "error",
     "evalue": "OpenCV(4.8.0) D:\\a\\opencv-python\\opencv-python\\opencv\\modules\\highgui\\src\\window.cpp:971: error: (-215:Assertion failed) size.width>0 && size.height>0 in function 'cv::imshow'\n",
     "output_type": "error",
     "traceback": [
      "\u001b[1;31m---------------------------------------------------------------------------\u001b[0m",
      "\u001b[1;31merror\u001b[0m                                     Traceback (most recent call last)",
      "Cell \u001b[1;32mIn[1], line 22\u001b[0m\n\u001b[0;32m     20\u001b[0m \u001b[38;5;28;01mwhile\u001b[39;00m \u001b[38;5;28;01mTrue\u001b[39;00m:\n\u001b[0;32m     21\u001b[0m     status , photo \u001b[38;5;241m=\u001b[39m cap\u001b[38;5;241m.\u001b[39mread()\n\u001b[1;32m---> 22\u001b[0m     cv2\u001b[38;5;241m.\u001b[39mimshow(\u001b[38;5;124m\"\u001b[39m\u001b[38;5;124mmy photo\u001b[39m\u001b[38;5;124m\"\u001b[39m , photo)\n\u001b[0;32m     23\u001b[0m     \u001b[38;5;28;01mif\u001b[39;00m cv2\u001b[38;5;241m.\u001b[39mwaitKey(\u001b[38;5;241m100\u001b[39m) \u001b[38;5;241m==\u001b[39m \u001b[38;5;241m13\u001b[39m:\n\u001b[0;32m     24\u001b[0m         \u001b[38;5;28;01mbreak\u001b[39;00m\n",
      "\u001b[1;31merror\u001b[0m: OpenCV(4.8.0) D:\\a\\opencv-python\\opencv-python\\opencv\\modules\\highgui\\src\\window.cpp:971: error: (-215:Assertion failed) size.width>0 && size.height>0 in function 'cv::imshow'\n"
     ]
    }
   ],
   "source": [
    "import boto3\n",
    "myec2 = boto3.resource(\"ec2\"  )\n",
    "\n",
    "def launchOS():\n",
    "    response = myec2.create_instances( \n",
    "        ImageId=\"ami-0da59f1af71ea4ad2\",\n",
    "        InstanceType=\"t2.micro\",\n",
    "        MaxCount=1,\n",
    "        MinCount=1\n",
    "    )\n",
    "\n",
    "import  cv2\n",
    "cap = cv2.VideoCapture( 0 )\n",
    "\n",
    "from cvzone.HandTrackingModule import HandDetector\n",
    "detector = HandDetector()\n",
    "\n",
    "\n",
    "\n",
    "while True:\n",
    "    status , photo = cap.read()\n",
    "    cv2.imshow(\"my photo\" , photo)\n",
    "    if cv2.waitKey(100) == 13:\n",
    "        break\n",
    "\n",
    "    handphoto = detector.findHands(photo , draw=False)\n",
    "\n",
    "    if handphoto:\n",
    "        lmlist = handphoto[0]\n",
    "        fingerstatus = detector.fingersUp(lmlist)\n",
    "\n",
    "        if fingerstatus == [1,1,1,1,1]:\n",
    "            print(\"all up\")\n",
    "            launchOS()\n",
    "            launchOS()\n",
    "            launchOS()\n",
    "            launchOS()\n",
    "            launchOS()\n",
    "\n",
    "        elif fingerstatus == [ 0 ,1 ,0 , 0, 0]:\n",
    "            print(\"index finger up\")\n",
    "            launchOS()\n",
    "\n",
    "        elif fingerstatus == [ 0 , 1, 1, 0 , 0 ]:\n",
    "            print(\"index and middle finger up\")\n",
    "            launchOS()\n",
    "            launchOS()\n",
    "\n",
    "        else:\n",
    "            print(\"idk\")\n",
    "\n",
    "\n",
    "cv2.destroyAllWindows()\n",
    "\n",
    "\n",
    "cap.release()"
   ]
  },
  {
   "cell_type": "code",
   "execution_count": null,
   "id": "45069248",
   "metadata": {},
   "outputs": [],
   "source": []
  }
 ],
 "metadata": {
  "kernelspec": {
   "display_name": "Python 3 (ipykernel)",
   "language": "python",
   "name": "python3"
  },
  "language_info": {
   "codemirror_mode": {
    "name": "ipython",
    "version": 3
   },
   "file_extension": ".py",
   "mimetype": "text/x-python",
   "name": "python",
   "nbconvert_exporter": "python",
   "pygments_lexer": "ipython3",
   "version": "3.11.3"
  }
 },
 "nbformat": 4,
 "nbformat_minor": 5
}
